{
 "cells": [
  {
   "cell_type": "code",
   "execution_count": null,
   "metadata": {},
   "outputs": [],
   "source": [
    "import sys\n",
    "sys.path.insert(1,'/projects/insituperf/InWrap/InWrap/python-utils')"
   ]
  },
  {
   "cell_type": "code",
   "execution_count": null,
   "metadata": {},
   "outputs": [],
   "source": [
    "import InWrapMochi\n",
    "conn = InWrapMochi.InWrapMochi('ofi+tcp','ofi+tcp://192.168.101.184:1234',1,'foo_test5')"
   ]
  },
  {
   "cell_type": "code",
   "execution_count": null,
   "metadata": {},
   "outputs": [],
   "source": [
    "current_timestep = conn.get_val(\"current_timestep\")\n",
    "print(current_timestep)"
   ]
  },
  {
   "cell_type": "code",
   "execution_count": null,
   "metadata": {},
   "outputs": [],
   "source": [
    "num_papi_counters = conn.get_val(\"num_papi_counters\")\n",
    "print(num_papi_counters)"
   ]
  },
  {
   "cell_type": "code",
   "execution_count": null,
   "metadata": {},
   "outputs": [],
   "source": [
    "conn.set(\"ADD_CATALYST_SCRIPT\",\"/projects/insituperf/InWrap/scripts/catalyst/miniAppUnstr_views.py\")\n",
    "conn.set(\"ADD_PAPI\",\"PAPI_L1_LDM\")\n",
    "conn.commit()"
   ]
  },
  {
   "cell_type": "code",
   "execution_count": null,
   "metadata": {},
   "outputs": [],
   "source": [
    "num_papi_counters = conn.get_val(\"num_papi_counters\")\n",
    "print(num_papi_counters)"
   ]
  },
  {
   "cell_type": "code",
   "execution_count": null,
   "metadata": {},
   "outputs": [],
   "source": [
    "num_papi_counters = int(conn.get_val(\"num_papi_counters\"))\n",
    "print(num_papi_counters)\n",
    "papi_counters = []\n",
    "for i in range(num_papi_counters):\n",
    "    key = \"papi_counter_\" + str(i)\n",
    "    papi_counters.append(conn.get_val(key))\n",
    "\n",
    "print(papi_counters)"
   ]
  },
  {
   "cell_type": "code",
   "execution_count": null,
   "metadata": {},
   "outputs": [],
   "source": [
    "import numpy as np\n",
    "import matplotlib.pyplot as plt\n",
    "num_timesteps = int(conn.get_val(\"current_timestep\"))-1\n",
    "print(num_timesteps)\n",
    "num_ranks = int(conn.get_val(\"numRanks\"))\n",
    "\n",
    "counters = []\n",
    "count = 0\n",
    "for p in papi_counters:\n",
    "    r_counter = []\n",
    "    for r in range(num_ranks):\n",
    "        key = p + \"_\" + str(r)\n",
    "        value = conn.get_val(key)\n",
    "        r_counter.append(int(value))\n",
    "    counters.append(r_counter)\n",
    "    count =  count + 1\n",
    "    \n",
    "print(counters)\n",
    "print(num_ranks)\n",
    "ranks = np.arange(num_ranks)\n",
    "print(ranks)\n",
    "\n",
    "#plt.plot(ranks, counters[0], label=papi_counters[0], linestyle='-', marker='o')\n",
    "#plt.plot(ranks, counters[1], label=papi_counters[1], linestyle='-', marker='x')\n",
    "plt.plot(ranks, counters[2], label=papi_counters[2], linestyle='-', marker='.')\n",
    "plt.legend()\n",
    "plt.title(\"Papi counters, ts\" + str(num_timesteps))"
   ]
  },
  {
   "cell_type": "code",
   "execution_count": null,
   "metadata": {},
   "outputs": [],
   "source": [
    "import numpy as np\n",
    "import matplotlib.pyplot as plt\n",
    "num_timesteps = int(conn.get_val(\"current_timestep\"))-1\n",
    "print(num_timesteps)\n",
    "num_ranks = int(conn.get_val(\"numRanks\"))\n",
    "\n",
    "counters = []\n",
    "count = 0\n",
    "for p in papi_counters:\n",
    "    r_counter = []\n",
    "    for r in range(num_ranks):\n",
    "        key = p + \"_\" + str(r)\n",
    "        value = conn.get_val(key)\n",
    "        r_counter.append(int(value))\n",
    "    counters.append(r_counter)\n",
    "    count =  count + 1\n",
    "    \n",
    "print(counters)\n",
    "print(num_ranks)\n",
    "ranks = np.arange(num_ranks)\n",
    "print(ranks)\n",
    "\n",
    "#plt.plot(ranks, counters[0], label=papi_counters[0], linestyle='-', marker='o')\n",
    "plt.plot(ranks, counters[1], label=papi_counters[1], linestyle='-', marker='x')\n",
    "#plt.plot(ranks, counters[2], label=papi_counters[2], linestyle='-', marker='.')\n",
    "plt.legend()\n",
    "plt.title(\"Papi counters, ts\" + str(num_timesteps))"
   ]
  },
  {
   "cell_type": "code",
   "execution_count": null,
   "metadata": {},
   "outputs": [],
   "source": []
  },
  {
   "cell_type": "code",
   "execution_count": null,
   "metadata": {},
   "outputs": [],
   "source": []
  }
 ],
 "metadata": {
  "kernelspec": {
   "display_name": "Python 3",
   "language": "python",
   "name": "python3"
  },
  "language_info": {
   "codemirror_mode": {
    "name": "ipython",
    "version": 3
   },
   "file_extension": ".py",
   "mimetype": "text/x-python",
   "name": "python",
   "nbconvert_exporter": "python",
   "pygments_lexer": "ipython3",
   "version": "3.7.3"
  }
 },
 "nbformat": 4,
 "nbformat_minor": 2
}
