{
 "cells": [
  {
   "cell_type": "code",
   "execution_count": 1,
   "metadata": {},
   "outputs": [],
   "source": [
    "import sys\n",
    "sys.path.insert(1,'/projects/insituperf/Seer/Seer_Client')\n",
    "import SeerClient\n",
    "conn = SeerClient.SeerClient('ofi+tcp','ofi+tcp://192.168.101.187:1234',1,'hacc_db_isav_9')"
   ]
  },
  {
   "cell_type": "code",
   "execution_count": 3,
   "metadata": {},
   "outputs": [
    {
     "name": "stdout",
     "output_type": "stream",
     "text": [
      "num ranks:  16  current timestep: 4\n"
     ]
    }
   ],
   "source": [
    "ts = conn.get_val(\"current_timestep\")\n",
    "nr = conn.get_val(\"numRanks\")\n",
    "print(\"num ranks: \", nr, \" current timestep:\", ts)"
   ]
  },
  {
   "cell_type": "code",
   "execution_count": 13,
   "metadata": {},
   "outputs": [
    {
     "name": "stdout",
     "output_type": "stream",
     "text": [
      "key:  345a01f6@PAPI:ADD%0\n",
      "val:  PAPI_TOT_CYC\n"
     ]
    }
   ],
   "source": [
    "conn.set(\"PAPI:ADD\",\"PAPI_TOT_CYC\")\n",
    "conn.commit()"
   ]
  },
  {
   "cell_type": "code",
   "execution_count": null,
   "metadata": {},
   "outputs": [],
   "source": [
    "conn.put_keyval(\"test\",\"10\")"
   ]
  },
  {
   "cell_type": "code",
   "execution_count": null,
   "metadata": {},
   "outputs": [],
   "source": [
    "x = conn.get_val(\"test\")\n",
    "print(x)"
   ]
  },
  {
   "cell_type": "code",
   "execution_count": null,
   "metadata": {},
   "outputs": [],
   "source": [
    "ts = conn.get_val(\"7d48e5e7@mainLoop_2\")\n",
    "print(ts)"
   ]
  },
  {
   "cell_type": "code",
   "execution_count": null,
   "metadata": {},
   "outputs": [],
   "source": [
    "theKeys = conn.list_keys()\n",
    "print(theKeys)"
   ]
  },
  {
   "cell_type": "code",
   "execution_count": null,
   "metadata": {},
   "outputs": [],
   "source": [
    "nr = conn.get_val(\"00000000@numRanks\")\n",
    "print(nr)"
   ]
  },
  {
   "cell_type": "code",
   "execution_count": null,
   "metadata": {},
   "outputs": [],
   "source": [
    "myKeys = conn.list_my_keys_only()\n",
    "print(myKeys)"
   ]
  },
  {
   "cell_type": "code",
   "execution_count": null,
   "metadata": {},
   "outputs": [],
   "source": [
    "conn.put_keyval(\"00000000@acurrent_ts\",\"20\")"
   ]
  },
  {
   "cell_type": "code",
   "execution_count": null,
   "metadata": {},
   "outputs": [],
   "source": [
    "xs = conn.get_val(\"PAPI_L1_DCM\")\n",
    "print(xs)"
   ]
  },
  {
   "cell_type": "code",
   "execution_count": null,
   "metadata": {},
   "outputs": [],
   "source": [
    "theKeys = conn.list_keys()\n",
    "print(theKeys)"
   ]
  },
  {
   "cell_type": "code",
   "execution_count": 12,
   "metadata": {},
   "outputs": [
    {
     "name": "stdout",
     "output_type": "stream",
     "text": [
      "94067686\n"
     ]
    }
   ],
   "source": [
    "xs = conn.get_val(\"00000000@PAPI_L1_LDM_5\")\n",
    "print(xs)"
   ]
  },
  {
   "cell_type": "code",
   "execution_count": 17,
   "metadata": {},
   "outputs": [
    {
     "name": "stdout",
     "output_type": "stream",
     "text": [
      "27247372345\n"
     ]
    }
   ],
   "source": [
    "xs = conn.get_val(\"345a01f6@PAPI_TOT_CYC_2\")\n",
    "print(xs)"
   ]
  },
  {
   "cell_type": "code",
   "execution_count": null,
   "metadata": {},
   "outputs": [],
   "source": []
  },
  {
   "cell_type": "code",
   "execution_count": null,
   "metadata": {},
   "outputs": [],
   "source": []
  }
 ],
 "metadata": {
  "kernelspec": {
   "display_name": "Python 3",
   "language": "python",
   "name": "python3"
  },
  "language_info": {
   "codemirror_mode": {
    "name": "ipython",
    "version": 3
   },
   "file_extension": ".py",
   "mimetype": "text/x-python",
   "name": "python",
   "nbconvert_exporter": "python",
   "pygments_lexer": "ipython3",
   "version": "3.7.4"
  }
 },
 "nbformat": 4,
 "nbformat_minor": 4
}
