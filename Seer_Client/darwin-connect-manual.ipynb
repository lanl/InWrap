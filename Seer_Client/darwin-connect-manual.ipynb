{
 "cells": [
  {
   "cell_type": "code",
   "execution_count": 1,
   "metadata": {},
   "outputs": [
    {
     "ename": "ImportError",
     "evalue": "No module named '_pymargo'",
     "output_type": "error",
     "traceback": [
      "\u001b[0;31m---------------------------------------------------------------------------\u001b[0m",
      "\u001b[0;31mImportError\u001b[0m                               Traceback (most recent call last)",
      "\u001b[0;32m<ipython-input-1-75104deb5a93>\u001b[0m in \u001b[0;36m<module>\u001b[0;34m()\u001b[0m\n\u001b[1;32m      1\u001b[0m \u001b[0;32mimport\u001b[0m \u001b[0msys\u001b[0m\u001b[0;34m\u001b[0m\u001b[0m\n\u001b[0;32m----> 2\u001b[0;31m \u001b[0;32mfrom\u001b[0m \u001b[0mpymargo\u001b[0m\u001b[0;34m.\u001b[0m\u001b[0mcore\u001b[0m \u001b[0;32mimport\u001b[0m \u001b[0mEngine\u001b[0m\u001b[0;34m\u001b[0m\u001b[0m\n\u001b[0m\u001b[1;32m      3\u001b[0m \u001b[0;32mfrom\u001b[0m \u001b[0mpysdskv\u001b[0m\u001b[0;34m.\u001b[0m\u001b[0mclient\u001b[0m \u001b[0;32mimport\u001b[0m \u001b[0;34m*\u001b[0m\u001b[0;34m\u001b[0m\u001b[0m\n\u001b[1;32m      4\u001b[0m \u001b[0;32mimport\u001b[0m \u001b[0mmatplotlib\u001b[0m\u001b[0;34m.\u001b[0m\u001b[0mpyplot\u001b[0m \u001b[0;32mas\u001b[0m \u001b[0mplt\u001b[0m\u001b[0;34m\u001b[0m\u001b[0m\n\u001b[1;32m      5\u001b[0m \u001b[0;32mimport\u001b[0m \u001b[0mnumpy\u001b[0m \u001b[0;32mas\u001b[0m \u001b[0mnp\u001b[0m\u001b[0;34m\u001b[0m\u001b[0m\n",
      "\u001b[0;32m~/spack/opt/spack/linux-centos7-ivybridge/gcc-7.3.0/py-margo-0.2.4-tpy5jxlthbzkdzofm7hexklt6ilpnwnq/lib/python3.7/site-packages/pymargo/__init__.py\u001b[0m in \u001b[0;36m<module>\u001b[0;34m()\u001b[0m\n\u001b[1;32m      1\u001b[0m \u001b[0;31m# (C) 2018 The University of Chicago\u001b[0m\u001b[0;34m\u001b[0m\u001b[0;34m\u001b[0m\u001b[0m\n\u001b[1;32m      2\u001b[0m \u001b[0;31m# See COPYRIGHT in top-level directory.\u001b[0m\u001b[0;34m\u001b[0m\u001b[0;34m\u001b[0m\u001b[0m\n\u001b[0;32m----> 3\u001b[0;31m \u001b[0;32mfrom\u001b[0m \u001b[0;34m.\u001b[0m \u001b[0;32mimport\u001b[0m \u001b[0mcore\u001b[0m\u001b[0;34m\u001b[0m\u001b[0m\n\u001b[0m\u001b[1;32m      4\u001b[0m \u001b[0;34m\u001b[0m\u001b[0m\n\u001b[1;32m      5\u001b[0m \u001b[0mclient\u001b[0m \u001b[0;34m=\u001b[0m \u001b[0mcore\u001b[0m\u001b[0;34m.\u001b[0m\u001b[0mclient\u001b[0m\u001b[0;34m\u001b[0m\u001b[0m\n",
      "\u001b[0;32m~/spack/opt/spack/linux-centos7-ivybridge/gcc-7.3.0/py-margo-0.2.4-tpy5jxlthbzkdzofm7hexklt6ilpnwnq/lib/python3.7/site-packages/pymargo/core.py\u001b[0m in \u001b[0;36m<module>\u001b[0;34m()\u001b[0m\n\u001b[1;32m      1\u001b[0m \u001b[0;31m# (C) 2018 The University of Chicago\u001b[0m\u001b[0;34m\u001b[0m\u001b[0;34m\u001b[0m\u001b[0m\n\u001b[1;32m      2\u001b[0m \u001b[0;31m# See COPYRIGHT in top-level directory.\u001b[0m\u001b[0;34m\u001b[0m\u001b[0;34m\u001b[0m\u001b[0m\n\u001b[0;32m----> 3\u001b[0;31m \u001b[0;32mimport\u001b[0m \u001b[0m_pymargo\u001b[0m\u001b[0;34m\u001b[0m\u001b[0m\n\u001b[0m\u001b[1;32m      4\u001b[0m \u001b[0;32mfrom\u001b[0m \u001b[0;34m.\u001b[0m\u001b[0mbulk\u001b[0m \u001b[0;32mimport\u001b[0m \u001b[0mBulk\u001b[0m\u001b[0;34m\u001b[0m\u001b[0m\n\u001b[1;32m      5\u001b[0m \u001b[0;34m\u001b[0m\u001b[0m\n",
      "\u001b[0;31mImportError\u001b[0m: No module named '_pymargo'"
     ]
    }
   ],
   "source": [
    "import sys\n",
    "from pymargo.core import Engine\n",
    "from pysdskv.client import *\n",
    "import matplotlib.pyplot as plt\n",
    "import numpy as np"
   ]
  },
  {
   "cell_type": "code",
   "execution_count": null,
   "metadata": {},
   "outputs": [],
   "source": [
    "engine = Engine('ofi+tcp')\n",
    "server_addr = 'ofi+tcp://192.168.101.184:1234'\n",
    "provider_id = 1\n",
    "db_name = 'struc5'"
   ]
  },
  {
   "cell_type": "code",
   "execution_count": null,
   "metadata": {},
   "outputs": [],
   "source": [
    "client = SDSKVClient(engine)\n",
    "addr = engine.lookup(server_addr)\n",
    "provider_handle = client.create_provider_handle(addr, provider_id)\n",
    "db = provider_handle.open(db_name)"
   ]
  },
  {
   "cell_type": "code",
   "execution_count": null,
   "metadata": {},
   "outputs": [],
   "source": [
    "ts = int(db.get(\"current_timestep\"))\n",
    "print(ts)"
   ]
  },
  {
   "cell_type": "code",
   "execution_count": null,
   "metadata": {},
   "outputs": [],
   "source": [
    "num_papi_counters = int(db.get(\"num_papi_counters\"))\n",
    "print(num_papi_counters)"
   ]
  },
  {
   "cell_type": "code",
   "execution_count": null,
   "metadata": {},
   "outputs": [],
   "source": [
    "db.put(\"ADD_PAPI-0:3456\",\"PAPI_L1_LDM\")\n",
    "db.put(\"ADD_CATALYST_SCRIPT-1:3456\",\"/projects/insituperf/InWrap/scripts/catalyst/miniAppStructured_views.py\")\n",
    "db.put(\"NEW_KEY\",\"3456\")"
   ]
  },
  {
   "cell_type": "code",
   "execution_count": null,
   "metadata": {},
   "outputs": [],
   "source": [
    "np = int(db.get(\"num_papi_counters\"))\n",
    "print(np)"
   ]
  },
  {
   "cell_type": "code",
   "execution_count": null,
   "metadata": {},
   "outputs": [],
   "source": [
    "db.put(\"ADD_PAPI-0\",\"PAPI_L1_LDM\")"
   ]
  },
  {
   "cell_type": "code",
   "execution_count": null,
   "metadata": {},
   "outputs": [],
   "source": [
    "db.put(\"REMOVE_PAPI-0:56479\",\"PAPI_BR_UCN\")\n",
    "db.put(\"NEW_KEY\",\"56479\")"
   ]
  },
  {
   "cell_type": "code",
   "execution_count": null,
   "metadata": {},
   "outputs": [],
   "source": [
    "num_papi_counters = int(db.get(\"num_papi_counters\"))\n",
    "print(num_papi_counters)\n",
    "papi_counters = []\n",
    "for i in range(num_papi_counters):\n",
    "    key = \"papi_counter_\" + str(i)\n",
    "    papi_counters.append(db.get(key))\n",
    "\n",
    "print(papi_counters)"
   ]
  },
  {
   "cell_type": "code",
   "execution_count": null,
   "metadata": {},
   "outputs": [],
   "source": [
    "num_timesteps = int(db.get(\"current_timestep\"))-1\n",
    "print(num_timesteps)\n",
    "num_ranks = int(db.get(\"numRanks\"))\n",
    "\n",
    "counters = []\n",
    "count = 0\n",
    "for p in papi_counters:\n",
    "    r_counter = []\n",
    "    for r in range(num_ranks):\n",
    "        key = p + \"_\" + str(r)\n",
    "        value = db.get(key)\n",
    "        r_counter.append(int(value))\n",
    "    counters.append(r_counter)\n",
    "    count =  count + 1\n",
    "    \n",
    "print(counters)\n",
    "print(num_ranks)\n",
    "ranks = np.arange(num_ranks)\n",
    "print(ranks)\n",
    "\n",
    "#plt.plot(ranks, counters[0], label=papi_counters[0], linestyle='-', marker='o')\n",
    "plt.plot(ranks, counters[1], label=papi_counters[1], linestyle='-', marker='x')\n",
    "#plt.plot(ranks, counters[2], label=papi_counters[2], linestyle='-', marker='.')\n",
    "plt.legend()\n",
    "plt.title(\"Papi counters\")"
   ]
  },
  {
   "cell_type": "code",
   "execution_count": null,
   "metadata": {},
   "outputs": [],
   "source": []
  }
 ],
 "metadata": {
  "kernelspec": {
   "display_name": "Python 3",
   "language": "python",
   "name": "python3"
  },
  "language_info": {
   "codemirror_mode": {
    "name": "ipython",
    "version": 3
   },
   "file_extension": ".py",
   "mimetype": "text/x-python",
   "name": "python",
   "nbconvert_exporter": "python",
   "pygments_lexer": "ipython3",
   "version": "3.5.6"
  }
 },
 "nbformat": 4,
 "nbformat_minor": 2
}
